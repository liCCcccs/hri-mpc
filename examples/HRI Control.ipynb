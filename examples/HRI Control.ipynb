{
 "cells": [
  {
   "cell_type": "code",
   "execution_count": 1,
   "metadata": {},
   "outputs": [],
   "source": [
    "import torch\n",
    "\n",
    "from mpc import mpc\n",
    "from mpc.mpc import QuadCost, LinDx, GradMethods\n",
    "from mpc.env_dx import hri\n",
    "\n",
    "import numpy as np\n",
    "import numpy.random as npr\n",
    "\n",
    "import matplotlib.pyplot as plt\n",
    "\n",
    "import os\n",
    "import io\n",
    "import base64\n",
    "import tempfile\n",
    "from IPython.display import HTML\n",
    "\n",
    "from tqdm import tqdm\n",
    "\n",
    "%matplotlib inline"
   ]
  },
  {
   "cell_type": "code",
   "execution_count": 14,
   "metadata": {},
   "outputs": [
    {
     "name": "stdout",
     "output_type": "stream",
     "text": [
      "Tmp dir: /var/folders/ch/glb2rc_j5bzc2h7ggs8xj_w40000gp/T/tmplq8kabst\n"
     ]
    },
    {
     "name": "stderr",
     "output_type": "stream",
     "text": [
      "100%|██████████| 100/100 [43:08<00:00, 25.88s/it]\n"
     ]
    }
   ],
   "source": [
    "from mpc.env_dx import hri\n",
    "\n",
    "# Dempster et al. model from @Hwang2015\n",
    "# For a subject\n",
    "# - weight = 75 kg\n",
    "# - thigh length = 0.4 m\n",
    "# - shank length = 0.4 m\n",
    "\n",
    "params = {\n",
    "            \"m1\": 7.275,\n",
    "            \"m2\": 3.75,\n",
    "            \"m3\": 2,\n",
    "            \"m4\": 2,\n",
    "            \"g\": 0,\n",
    "            \"I_G1z\": 0.121*1e6,\n",
    "            \"I_G2z\": 0.055*1e6,\n",
    "            \"I_G3z\": 0.02*1e6,\n",
    "            \"I_G4z\": 0.02*1e6,\n",
    "            \"l1\": 0.4*1e3,\n",
    "            \"l2\": 0.4*1e3,\n",
    "            \"l3\": 0.2*1e3,\n",
    "            \"l4\": 0.2*1e3,\n",
    "            \"lc1\": 0.173*1e3,\n",
    "            \"la1\": 0.2*1e3,\n",
    "            \"lb1\": 0.05*1e3,\n",
    "            \"lc2\": 0.173*1e3,\n",
    "            \"lc3\": 0.1*1e3,\n",
    "            \"lc4\": 0.1*1e3,\n",
    "            \"la4\": 0.2*1e3,\n",
    "            \"la2\": 0.2*1e3,\n",
    "            \"K_AFz\": 60000*1e-3,\n",
    "            \"K_AFx\": 30000*1e-3,\n",
    "            \"K_AMy\": 50*1e3,\n",
    "            \"K_BFz\": 60000*1e-3,\n",
    "            \"K_BFx\": 30000*1e-3,\n",
    "            \"K_BMy\": 50*1e3,\n",
    "        }\n",
    "\n",
    "# params = {\n",
    "#             \"m1\": 1,\n",
    "#             \"m2\": 1,\n",
    "#             \"m3\": 1,\n",
    "#             \"m4\": 1,\n",
    "#             \"g\": 0,\n",
    "#             \"I_G1z\": 1,\n",
    "#             \"I_G2z\": 1,\n",
    "#             \"I_G3z\": 1,\n",
    "#             \"I_G4z\": 1,\n",
    "#             \"l1\": 1,\n",
    "#             \"l2\": 1,\n",
    "#             \"l3\": 0.8,\n",
    "#             \"l4\": 0.8,\n",
    "#             \"lc1\": 0.5,\n",
    "#             \"la1\": 0.2,\n",
    "#             \"lb1\": 0.2,\n",
    "#             \"lc2\": 0.5,\n",
    "#             \"lc3\": 0.4,\n",
    "#             \"lc4\": 0.4,\n",
    "#             \"la4\": 0.3,\n",
    "#             \"la2\": 0.3,\n",
    "#             \"K_AFz\": 50,\n",
    "#             \"K_AFx\": 50,\n",
    "#             \"K_AMy\": 20,\n",
    "#             \"K_BFz\": 50,\n",
    "#             \"K_BFx\": 50,\n",
    "#             \"K_BMy\": 20,\n",
    "#         }\n",
    "\n",
    "n_batch, T, mpc_T = 1, 60, 5\n",
    "\n",
    "dx = hri.HRIDx(model_params=params, simple=True)\n",
    "\n",
    "def uniform(shape, low, high):\n",
    "    r = high-low\n",
    "    return torch.rand(shape)*r+low\n",
    "\n",
    "torch.manual_seed(0)\n",
    "h_q2 = uniform(n_batch, -0.5*np.pi, -0.5*np.pi)\n",
    "r_d2 = uniform(n_batch, 0., 0.)\n",
    "r_d3 = uniform(n_batch, 0., 0.)\n",
    "r_q4 = uniform(n_batch, 0., 0.)\n",
    "r_q5 = uniform(n_batch, -0.5*np.pi, -0.5*np.pi)\n",
    "h_dq2 = uniform(n_batch, 0., 0.)\n",
    "r_dd2 = uniform(n_batch, 0., 0.)\n",
    "r_dd3 = uniform(n_batch, 0., 0.)\n",
    "r_dq4 = uniform(n_batch, 0., 0.)\n",
    "r_dq5 = uniform(n_batch, 0., 0.)\n",
    "\n",
    "# fix\n",
    "xinit = torch.stack((h_q2, h_dq2, r_d2, r_dd2, r_d3, r_dd3, r_q4, r_dq4, r_q5, r_dq5), dim=1)\n",
    "\n",
    "x = xinit\n",
    "u_init = None\n",
    "\n",
    "# The cost terms for the swingup task can be alternatively obtained\n",
    "# for this pendulum environment with:\n",
    "# q, p = dx.get_true_obj()\n",
    "\n",
    "mode = 'swingup'\n",
    "# mode = 'spin'\n",
    "\n",
    "if mode == 'swingup':\n",
    "    des_angle = 0.5*np.pi\n",
    "    goal_weights = torch.Tensor((100., 0., 0., 0., 0., 0., 0., 0., 0., 0.))\n",
    "    goal_state = torch.Tensor((des_angle, 0., 0., 0., 0. , 0., 0. ,0., des_angle, 0.))\n",
    "    ctrl_penalty = 0.00001\n",
    "    q = torch.cat((\n",
    "        goal_weights,\n",
    "        ctrl_penalty*torch.ones(dx.n_ctrl)\n",
    "    ))\n",
    "    px = -torch.sqrt(goal_weights)*goal_state\n",
    "    p = torch.cat((px, torch.zeros(dx.n_ctrl)))\n",
    "    Q = torch.diag(q).unsqueeze(0).unsqueeze(0).repeat(\n",
    "        mpc_T, n_batch, 1, 1\n",
    "    )\n",
    "    p = p.unsqueeze(0).repeat(mpc_T, n_batch, 1)\n",
    "elif mode == 'spin':\n",
    "    Q = 0.001*torch.eye(dx.n_state+dx.n_ctrl).unsqueeze(0).unsqueeze(0).repeat(\n",
    "        mpc_T, n_batch, 1, 1\n",
    "    )\n",
    "    p = torch.tensor((0., 0., -1., 0.))\n",
    "    p = p.unsqueeze(0).repeat(mpc_T, n_batch, 1)\n",
    "\n",
    "t_dir = tempfile.mkdtemp()\n",
    "print('Tmp dir: {}'.format(t_dir))\n",
    "\n",
    "# initialise an array to store the state and action trajectories\n",
    "x_traj = torch.zeros(T, dx.n_state)\n",
    "u_traj = torch.zeros(T, dx.n_ctrl)\n",
    "\n",
    "for t in tqdm(range(T)):\n",
    "    nominal_states, nominal_actions, nominal_objs = mpc.MPC(\n",
    "        dx.n_state, dx.n_ctrl, mpc_T,\n",
    "        u_init=u_init,\n",
    "        u_lower=dx.lower, u_upper=dx.upper,\n",
    "        lqr_iter=50,\n",
    "        verbose=0,\n",
    "        exit_unconverged=False,\n",
    "        detach_unconverged=False,\n",
    "        linesearch_decay=dx.linesearch_decay,\n",
    "        max_linesearch_iter=dx.max_linesearch_iter,\n",
    "        grad_method=GradMethods.FINITE_DIFF,\n",
    "        eps=1e-2,\n",
    "    )(x, QuadCost(Q, p), dx)\n",
    "    \n",
    "    # shift the actions one step forward as the initial guess for the next step\n",
    "    next_action = nominal_actions[0]\n",
    "    u_init = torch.cat((nominal_actions[1:], torch.zeros(1, n_batch, dx.n_ctrl)), dim=0)\n",
    "    u_init[-2] = u_init[-3]  # no idea what this does\n",
    "    x = dx(x, next_action)\n",
    "    \n",
    "    # save the state and action trajectories\n",
    "    x_traj[t] = x\n",
    "    u_traj[t] = next_action\n",
    "\n",
    "    #fig.savefig(os.path.join(t_dir, '{:03d}.png'.format(t)))\n",
    "    #plt.close(fig)"
   ]
  },
  {
   "cell_type": "code",
   "execution_count": 12,
   "metadata": {},
   "outputs": [
    {
     "name": "stdout",
     "output_type": "stream",
     "text": [
      "tensor([-1.5708, -1.5708, -1.5708, -1.5708, -1.5707, -1.5707, -1.5706, -1.5706,\n",
      "        -1.5705, -1.5705, -1.5704, -1.5703, -1.5702, -1.5701, -1.5700, -1.5699,\n",
      "        -1.5698, -1.5697, -1.5695, -1.5694, -1.5692, -1.5691, -1.5689, -1.5688,\n",
      "        -1.5686, -1.5685, -1.5683, -1.5681, -1.5680, -1.5678, -1.5676, -1.5674,\n",
      "        -1.5673, -1.5671, -1.5669, -1.5667, -1.5665, -1.5664, -1.5662, -1.5660,\n",
      "        -1.5658, -1.5657, -1.5655, -1.5653, -1.5652, -1.5650, -1.5648, -1.5647,\n",
      "        -1.5645, -1.5644, -1.5642, -1.5641, -1.5640, -1.5638, -1.5637, -1.5636,\n",
      "        -1.5635, -1.5633, -1.5632, -1.5631, -1.5630, -1.5629, -1.5629, -1.5628,\n",
      "        -1.5627, -1.5626, -1.5625, -1.5625, -1.5624, -1.5623, -1.5623, -1.5622,\n",
      "        -1.5622, -1.5621, -1.5621, -1.5620, -1.5620, -1.5619, -1.5619, -1.5619,\n",
      "        -1.5618, -1.5618, -1.5617, -1.5617, -1.5617, -1.5616, -1.5616, -1.5615,\n",
      "        -1.5615, -1.5614, -1.5614, -1.5613, -1.5613, -1.5612, -1.5611, -1.5610,\n",
      "        -1.5610, -1.5609, -1.5608, -1.5607])\n"
     ]
    },
    {
     "data": {
      "image/png": "[encoded data removed]",
      "text/plain": [
       "<Figure size 400x400 with 1 Axes>"
      ]
     },
     "metadata": {},
     "output_type": "display_data"
    }
   ],
   "source": [
    "axs = plt.figure(figsize=(4,4))\n",
    "# print x_traj values\n",
    "print(x_traj[:, 8])\n",
    "\n",
    "# create an array for the time steps\n",
    "t = np.arange(T) / 100  # defined in hri.py, dt = 0.05\n",
    "for i in range(n_batch):\n",
    "    plt.plot(t, x_traj[:, 0])\n",
    "    plt.plot(t, x_traj[:, 8])\n",
    "    plt.plot(t, u_traj[:, 0].detach().numpy())\n",
    "    plt.legend(['h th', 'r th', 'u1'])\n",
    "plt.show()"
   ]
  },
  {
   "cell_type": "code",
   "execution_count": null,
   "metadata": {},
   "outputs": [],
   "source": [
    "vid_fname = 'pendulum-{}.mp4'.format(mode)\n",
    "\n",
    "if os.path.exists(vid_fname):\n",
    "    os.remove(vid_fname)\n",
    "    \n",
    "cmd = 'ffmpeg -r 16 -f image2 -i {}/%03d.png -vcodec libx264 -crf 25  -pix_fmt yuv420p {}'.format(\n",
    "    t_dir, vid_fname\n",
    ")\n",
    "\n",
    "os.system(cmd)\n",
    "print('Saving video to: {}'.format(vid_fname))"
   ]
  },
  {
   "cell_type": "code",
   "execution_count": null,
   "metadata": {},
   "outputs": [],
   "source": [
    "video = io.open(vid_fname, 'r+b').read()\n",
    "encoded = base64.b64encode(video)\n",
    "HTML(data='''<video alt=\"test\" controls>\n",
    "                <source src=\"data:video/mp4;base64,{0}\" type=\"video/mp4\" />\n",
    "             </video>'''.format(encoded.decode('ascii')))"
   ]
  },
  {
   "cell_type": "code",
   "execution_count": 4,
   "metadata": {},
   "outputs": [
    {
     "data": {
      "text/plain": [
       "tensor(90.)"
      ]
     },
     "execution_count": 4,
     "metadata": {},
     "output_type": "execute_result"
    }
   ],
   "source": [
    "a = torch.tensor([20., 30., 40., 50., 60., 70., 80., 90., 100., 110.])\n",
    "a[-3]"
   ]
  },
  {
   "cell_type": "code",
   "execution_count": null,
   "metadata": {},
   "outputs": [],
   "source": []
  },
  {
   "cell_type": "code",
   "execution_count": null,
   "metadata": {},
   "outputs": [],
   "source": []
  }
 ],
 "metadata": {
  "kernelspec": {
   "display_name": "Python 3",
   "language": "python",
   "name": "python3"
  },
  "language_info": {
   "codemirror_mode": {
    "name": "ipython",
    "version": 3
   },
   "file_extension": ".py",
   "mimetype": "text/x-python",
   "name": "python",
   "nbconvert_exporter": "python",
   "pygments_lexer": "ipython3",
   "version": "3.8.16"
  }
 },
 "nbformat": 4,
 "nbformat_minor": 2
}

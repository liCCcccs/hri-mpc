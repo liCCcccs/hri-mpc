{
 "cells": [
  {
   "cell_type": "code",
   "execution_count": null,
   "metadata": {},
   "outputs": [],
   "source": [
    "import torch\n",
    "\n",
    "from mpc import mpc\n",
    "from mpc.mpc import QuadCost, LinDx, GradMethods\n",
    "from mpc.env_dx import pendulum\n",
    "\n",
    "import numpy as np\n",
    "import numpy.random as npr\n",
    "\n",
    "import matplotlib.pyplot as plt\n",
    "\n",
    "import os\n",
    "import io\n",
    "import base64\n",
    "import tempfile\n",
    "from IPython.display import HTML\n",
    "\n",
    "from tqdm import tqdm\n",
    "\n",
    "%matplotlib inline"
   ]
  },
  {
   "cell_type": "code",
   "execution_count": null,
   "metadata": {},
   "outputs": [],
   "source": [
    "params = torch.tensor((10., 1., 1.))\n",
    "dx = pendulum.PendulumDx(params, simple=True)\n",
    "\n",
    "n_batch, T, mpc_T = 16, 100, 20\n",
    "\n",
    "def uniform(shape, low, high):\n",
    "    r = high-low\n",
    "    return torch.rand(shape)*r+low\n",
    "\n",
    "torch.manual_seed(0)\n",
    "th = uniform(n_batch, -(1/2)*np.pi, (1/2)*np.pi)\n",
    "thdot = uniform(n_batch, -1., 1.)\n",
    "xinit = torch.stack((torch.cos(th), torch.sin(th), thdot), dim=1)\n",
    "\n",
    "x = xinit\n",
    "u_init = None\n",
    "\n",
    "# The cost terms for the swingup task can be alternatively obtained\n",
    "# for this pendulum environment with:\n",
    "# q, p = dx.get_true_obj()\n",
    "\n",
    "mode = 'swingup'\n",
    "# mode = 'spin'\n",
    "\n",
    "if mode == 'swingup':\n",
    "    goal_weights = torch.Tensor((1., 1., 0.1))\n",
    "    goal_state = torch.Tensor((1., 0. ,0.))\n",
    "    ctrl_penalty = 0.001\n",
    "    q = torch.cat((\n",
    "        goal_weights,\n",
    "        ctrl_penalty*torch.ones(dx.n_ctrl)\n",
    "    ))\n",
    "    px = -torch.sqrt(goal_weights)*goal_state\n",
    "    p = torch.cat((px, torch.zeros(dx.n_ctrl)))\n",
    "    Q = torch.diag(q).unsqueeze(0).unsqueeze(0).repeat(\n",
    "        mpc_T, n_batch, 1, 1\n",
    "    )\n",
    "    p = p.unsqueeze(0).repeat(mpc_T, n_batch, 1)\n",
    "elif mode == 'spin':\n",
    "    Q = 0.001*torch.eye(dx.n_state+dx.n_ctrl).unsqueeze(0).unsqueeze(0).repeat(\n",
    "        mpc_T, n_batch, 1, 1\n",
    "    )\n",
    "    p = torch.tensor((0., 0., -1., 0.))\n",
    "    p = p.unsqueeze(0).repeat(mpc_T, n_batch, 1)\n",
    "\n",
    "t_dir = tempfile.mkdtemp()\n",
    "print('Tmp dir: {}'.format(t_dir))\n",
    "\n",
    "for t in tqdm(range(T)):\n",
    "    nominal_states, nominal_actions, nominal_objs = mpc.MPC(\n",
    "        dx.n_state, dx.n_ctrl, mpc_T,\n",
    "        u_init=u_init,\n",
    "        u_lower=dx.lower, u_upper=dx.upper,\n",
    "        lqr_iter=50,\n",
    "        verbose=0,\n",
    "        exit_unconverged=False,\n",
    "        detach_unconverged=False,\n",
    "        linesearch_decay=dx.linesearch_decay,\n",
    "        max_linesearch_iter=dx.max_linesearch_iter,\n",
    "        grad_method=GradMethods.AUTO_DIFF,\n",
    "        eps=1e-2,\n",
    "    )(x, QuadCost(Q, p), dx)\n",
    "    \n",
    "    next_action = nominal_actions[0]\n",
    "    u_init = torch.cat((nominal_actions[1:], torch.zeros(1, n_batch, dx.n_ctrl)), dim=0)\n",
    "    u_init[-2] = u_init[-3]\n",
    "    x = dx(x, next_action)\n",
    "\n",
    "    n_row, n_col = 4, 4\n",
    "    fig, axs = plt.subplots(n_row, n_col, figsize=(3*n_col,3*n_row))\n",
    "    axs = axs.reshape(-1)\n",
    "    for i in range(n_batch):\n",
    "        dx.get_frame(x[i], ax=axs[i])\n",
    "        axs[i].get_xaxis().set_visible(False)\n",
    "        axs[i].get_yaxis().set_visible(False)\n",
    "    fig.tight_layout()\n",
    "    fig.savefig(os.path.join(t_dir, '{:03d}.png'.format(t)))\n",
    "    plt.close(fig)"
   ]
  },
  {
   "cell_type": "code",
   "execution_count": null,
   "metadata": {},
   "outputs": [],
   "source": [
    "vid_fname = 'pendulum-{}.mp4'.format(mode)\n",
    "\n",
    "if os.path.exists(vid_fname):\n",
    "    os.remove(vid_fname)\n",
    "    \n",
    "cmd = 'ffmpeg -r 16 -f image2 -i {}/%03d.png -vcodec libx264 -crf 25  -pix_fmt yuv420p {}'.format(\n",
    "    t_dir, vid_fname\n",
    ")\n",
    "\n",
    "os.system(cmd)\n",
    "print('Saving video to: {}'.format(vid_fname))"
   ]
  },
  {
   "cell_type": "code",
   "execution_count": null,
   "metadata": {},
   "outputs": [],
   "source": [
    "video = io.open(vid_fname, 'r+b').read()\n",
    "encoded = base64.b64encode(video)\n",
    "HTML(data='''<video alt=\"test\" controls>\n",
    "                <source src=\"data:video/mp4;base64,{0}\" type=\"video/mp4\" />\n",
    "             </video>'''.format(encoded.decode('ascii')))"
   ]
  },
  {
   "cell_type": "code",
   "execution_count": 22,
   "metadata": {},
   "outputs": [
    {
     "data": {
      "text/plain": [
       "torch.Size([1, 4])"
      ]
     },
     "execution_count": 22,
     "metadata": {},
     "output_type": "execute_result"
    }
   ],
   "source": [
    "x = torch.tensor((1., 2., 3., 4.))\n",
    "x.ndimension() == 1\n",
    "x = x.unsqueeze(0)\n",
    "x.shape"
   ]
  },
  {
   "cell_type": "code",
   "execution_count": null,
   "metadata": {},
   "outputs": [],
   "source": []
  }
 ],
 "metadata": {
  "kernelspec": {
   "display_name": "Python 3",
   "language": "python",
   "name": "python3"
  },
  "language_info": {
   "codemirror_mode": {
    "name": "ipython",
    "version": 3
   },
   "file_extension": ".py",
   "mimetype": "text/x-python",
   "name": "python",
   "nbconvert_exporter": "python",
   "pygments_lexer": "ipython3",
   "version": "3.8.16"
  }
 },
 "nbformat": 4,
 "nbformat_minor": 2
}
